{
  "nbformat": 4,
  "nbformat_minor": 0,
  "metadata": {
    "colab": {
      "provenance": []
    },
    "kernelspec": {
      "name": "python3",
      "display_name": "Python 3"
    },
    "language_info": {
      "name": "python"
    }
  },
  "cells": [
    {
      "cell_type": "code",
      "execution_count": 46,
      "metadata": {
        "colab": {
          "base_uri": "https://localhost:8080/"
        },
        "id": "2MzbVNABglbt",
        "outputId": "a1405b84-bd5e-4860-9cbf-c5436391cdd8"
      },
      "outputs": [
        {
          "output_type": "stream",
          "name": "stdout",
          "text": [
            "Top 10 active IP adresses:\n",
            "+---------------+--------------+\n",
            "|             ip|requests_count|\n",
            "+---------------+--------------+\n",
            "|172.213.173.234|             2|\n",
            "|182.242.200.232|             1|\n",
            "|135.132.106.211|             1|\n",
            "|  20.175.54.229|             1|\n",
            "|   94.61.241.41|             1|\n",
            "|  95.202.182.60|             1|\n",
            "|   28.52.106.76|             1|\n",
            "|   74.89.158.98|             1|\n",
            "| 216.195.222.29|             1|\n",
            "|153.171.255.153|             1|\n",
            "+---------------+--------------+\n",
            "\n",
            "Request count by HTTP method:\n",
            "+------+------------+\n",
            "|method|method_count|\n",
            "+------+------------+\n",
            "|  POST|       24918|\n",
            "|DELETE|       25098|\n",
            "|   PUT|       24910|\n",
            "|   GET|       25074|\n",
            "+------+------------+\n",
            "\n",
            "Number of 404 response codes: 25206\n",
            "Total response size by day:\n",
            "+----------+-------------------+\n",
            "|      date|total_response_size|\n",
            "+----------+-------------------+\n",
            "|      NULL|          4996306.0|\n",
            "|1000-01-01|            12000.0|\n",
            "|1001-01-01|            11011.0|\n",
            "|1002-01-01|            15030.0|\n",
            "|1003-01-01|             8024.0|\n",
            "|1004-01-01|            10040.0|\n",
            "|1005-01-01|            10050.0|\n",
            "|1006-01-01|            11066.0|\n",
            "|1007-01-01|            13091.0|\n",
            "|1008-01-01|            13104.0|\n",
            "|1009-01-01|            17153.0|\n",
            "|1010-01-01|            10100.0|\n",
            "|1011-01-01|             8088.0|\n",
            "|1012-01-01|            10120.0|\n",
            "|1013-01-01|             9117.0|\n",
            "+----------+-------------------+\n",
            "\n"
          ]
        }
      ],
      "source": [
        "from pyspark.sql import SparkSession\n",
        "from pyspark.sql.functions import count, col, to_date, sum\n",
        "\n",
        "spark = SparkSession.builder\\\n",
        ".appName('log_analysis')\\\n",
        ".getOrCreate()\n",
        "\n",
        "df = spark.read.option('header', 'true').csv('/content/web_server_logs.csv')\n",
        "\n",
        "first_task_p_1 = df.groupBy('ip')\\\n",
        ".agg(count('*').alias('requests_count'))\n",
        "first_task = first_task_p_1.orderBy(col('requests_count').desc()).limit(10)\n",
        "print('Top 10 active IP adresses:')\n",
        "first_task.show()\n",
        "\n",
        "second_task = df.groupBy('method')\\\n",
        ".agg(count('*').alias('method_count'))\n",
        "print('Request count by HTTP method:')\n",
        "second_task.show()\n",
        "\n",
        "third_task_p_1 = df.filter(col('response_code') == 404)\n",
        "third_task = third_task_p_1.count()\n",
        "print(f'Number of 404 response codes: {third_task}')\n",
        "\n",
        "fourth_task = df.withColumn('date', to_date('response_size'))\n",
        "total_response_size = fourth_task.groupBy('date')\\\n",
        ".agg(sum('response_size').alias('total_response_size'))\\\n",
        ".orderBy('date')\\\n",
        ".limit(15)\n",
        "print('Total response size by day:')\n",
        "total_response_size.show()\n",
        "\n",
        "spark.stop()"
      ]
    }
  ]
}