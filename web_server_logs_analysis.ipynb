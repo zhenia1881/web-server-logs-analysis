{
  "nbformat": 4,
  "nbformat_minor": 0,
  "metadata": {
    "colab": {
      "provenance": []
    },
    "kernelspec": {
      "name": "python3",
      "display_name": "Python 3"
    },
    "language_info": {
      "name": "python"
    }
  },
  "cells": [
    {
      "cell_type": "code",
      "execution_count": 45,
      "metadata": {
        "colab": {
          "base_uri": "https://localhost:8080/"
        },
        "id": "2MzbVNABglbt",
        "outputId": "a349996d-a013-487b-c88b-f4393a5c581f"
      },
      "outputs": [
        {
          "output_type": "stream",
          "name": "stdout",
          "text": [
            "+---------------+--------------------+------+--------------------+-------------+-------------+\n",
            "|             ip|           timestamp|method|                 url|response_code|response_size|\n",
            "+---------------+--------------------+------+--------------------+-------------+-------------+\n",
            "| 95.224.114.241|2025-02-13T20:46:...|  POST|   posts/search/tags|          301|         3122|\n",
            "|  109.117.54.10|2025-01-21T15:02:...|   GET|          categories|          404|         2647|\n",
            "|  131.95.11.138|2025-01-12T14:08:...|   PUT|                 tag|          301|         8918|\n",
            "|  55.204.174.65|2025-01-10T17:07:...|   GET|           posts/tag|          200|         6573|\n",
            "|115.218.165.164|2025-01-06T15:13:...|  POST|        explore/list|          500|         6482|\n",
            "| 26.193.100.157|2025-01-07T10:35:...|DELETE|                main|          500|         5216|\n",
            "|   181.43.19.25|2025-02-04T05:20:...|   PUT|category/posts/ex...|          200|         3338|\n",
            "|  19.143.90.145|2025-01-04T00:04:...|   PUT|    tags/list/search|          200|         8817|\n",
            "|  46.236.223.35|2025-02-16T02:33:...|DELETE|     explore/app/app|          404|         3492|\n",
            "|   98.113.203.0|2025-01-28T15:23:...|   GET|blog/wp-content/blog|          200|         5999|\n",
            "|  74.14.246.208|2025-02-13T16:56:...|   PUT|list/categories/list|          200|         6116|\n",
            "|   62.69.61.212|2025-02-06T23:55:...|   GET|            tag/list|          301|         8005|\n",
            "|    6.46.74.134|2025-02-06T06:02:...|   PUT|   explore/list/blog|          200|         8623|\n",
            "| 64.192.241.100|2025-01-19T21:16:...|   GET|          wp-content|          200|         1576|\n",
            "|    149.6.53.71|2025-02-08T09:08:...|DELETE|              search|          404|         5179|\n",
            "| 57.134.231.136|2025-01-25T10:28:...|   PUT|       tags/list/tag|          500|         7143|\n",
            "|  97.17.113.190|2025-02-16T15:36:...|   GET|            category|          404|         4224|\n",
            "|  182.181.122.4|2025-02-06T00:36:...|   PUT|                 app|          404|         5296|\n",
            "|  82.255.40.107|2025-02-01T08:19:...|DELETE|               posts|          301|         5795|\n",
            "| 134.22.129.187|2025-01-10T14:47:...|   GET|                blog|          500|         7971|\n",
            "+---------------+--------------------+------+--------------------+-------------+-------------+\n",
            "only showing top 20 rows\n",
            "\n",
            "Top 10 active IP adresses:\n",
            "+---------------+--------------+\n",
            "|             ip|requests_count|\n",
            "+---------------+--------------+\n",
            "|172.213.173.234|             2|\n",
            "|182.242.200.232|             1|\n",
            "|135.132.106.211|             1|\n",
            "|  20.175.54.229|             1|\n",
            "|   94.61.241.41|             1|\n",
            "|  95.202.182.60|             1|\n",
            "|   28.52.106.76|             1|\n",
            "|   74.89.158.98|             1|\n",
            "| 216.195.222.29|             1|\n",
            "|153.171.255.153|             1|\n",
            "+---------------+--------------+\n",
            "\n",
            "Request count by HTTP method:\n",
            "+------+------------+\n",
            "|method|method_count|\n",
            "+------+------------+\n",
            "|  POST|       24918|\n",
            "|DELETE|       25098|\n",
            "|   PUT|       24910|\n",
            "|   GET|       25074|\n",
            "+------+------------+\n",
            "\n",
            "Number of 404 response codes: 25206\n",
            "Total response size by day:\n",
            "+----------+-------------------+\n",
            "|      date|total_response_size|\n",
            "+----------+-------------------+\n",
            "|      NULL|          4996306.0|\n",
            "|1000-01-01|            12000.0|\n",
            "|1001-01-01|            11011.0|\n",
            "|1002-01-01|            15030.0|\n",
            "|1003-01-01|             8024.0|\n",
            "|1004-01-01|            10040.0|\n",
            "|1005-01-01|            10050.0|\n",
            "|1006-01-01|            11066.0|\n",
            "|1007-01-01|            13091.0|\n",
            "|1008-01-01|            13104.0|\n",
            "|1009-01-01|            17153.0|\n",
            "|1010-01-01|            10100.0|\n",
            "|1011-01-01|             8088.0|\n",
            "|1012-01-01|            10120.0|\n",
            "|1013-01-01|             9117.0|\n",
            "+----------+-------------------+\n",
            "\n"
          ]
        }
      ],
      "source": [
        "from pyspark.sql import SparkSession\n",
        "from pyspark.sql.functions import count, col, to_date, sum\n",
        "\n",
        "spark = SparkSession.builder\\\n",
        ".appName('log_analysis')\\\n",
        ".getOrCreate()\n",
        "\n",
        "df = spark.read.option('header', 'true').csv('/content/web_server_logs.csv')\n",
        "\n",
        "first_task_p_1 = df.groupBy('ip')\\\n",
        ".agg(count('*').alias('requests_count'))\n",
        "first_task = first_task_p_1.orderBy(col('requests_count').desc()).limit(10)\n",
        "print('Top 10 active IP adresses:')\n",
        "first_task.show()\n",
        "\n",
        "second_task = df.groupBy('method')\\\n",
        ".agg(count('*').alias('method_count'))\n",
        "print('Request count by HTTP method:')\n",
        "second_task.show()\n",
        "\n",
        "third_task_p_1 = df.filter(col('response_code') == 404)\n",
        "third_task = third_task_p_1.count()\n",
        "print(f'Number of 404 response codes: {third_task}')\n",
        "\n",
        "fourth_task = df.withColumn('date', to_date('response_size'))\n",
        "total_response_size = fourth_task.groupBy('date')\\\n",
        ".agg(sum('response_size').alias('total_response_size'))\\\n",
        ".orderBy('date')\\\n",
        ".limit(15)\n",
        "print('Total response size by day:')\n",
        "total_response_size.show()\n",
        "\n",
        "spark.stop()"
      ]
    },
    {
      "cell_type": "markdown",
      "source": [
        "# Новый раздел"
      ],
      "metadata": {
        "id": "JyxzRuagACSk"
      }
    }
  ]
}